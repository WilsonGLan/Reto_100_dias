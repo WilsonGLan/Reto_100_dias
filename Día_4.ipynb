{
  "nbformat": 4,
  "nbformat_minor": 0,
  "metadata": {
    "colab": {
      "name": "Día 4.ipynb",
      "provenance": [],
      "authorship_tag": "ABX9TyPuwbgYYWZ/2uW4fH6dxLDj",
      "include_colab_link": true
    },
    "kernelspec": {
      "name": "python3",
      "display_name": "Python 3"
    }
  },
  "cells": [
    {
      "cell_type": "markdown",
      "metadata": {
        "id": "view-in-github",
        "colab_type": "text"
      },
      "source": [
        "<a href=\"https://colab.research.google.com/github/WilsonGLan/Reto_100_dias/blob/main/D%C3%ADa_4.ipynb\" target=\"_parent\"><img src=\"https://colab.research.google.com/assets/colab-badge.svg\" alt=\"Open In Colab\"/></a>"
      ]
    },
    {
      "cell_type": "markdown",
      "metadata": {
        "id": "qGtXcc2R-QTp"
      },
      "source": [
        "## **Heads or Tails**\n",
        "---\n",
        "# Instructions\n",
        "\n",
        "You are going to write a virtual coin toss program. It will randomly tell the user \"Heads\" or \"Tails\". \n",
        "\n",
        "**Important**, the first letter should be capitalised and spelt exactly like in the example e.g. Heads, not heads.\n",
        "\n",
        "There are many ways of doing this. But to practice what we learnt in the last lesson, you should generate a random number, either 0 or 1. Then use that number to print out Heads or Tails.\n",
        "\n",
        "e.g.\n",
        "1 means Heads\n",
        "0 means Tails \n",
        "\n",
        "# Example Output\n",
        "\n",
        "```\n",
        "Heads\n",
        "```\n",
        "\n",
        "or\n",
        "\n",
        "```\n",
        "Tails\n",
        "```\n"
      ]
    },
    {
      "cell_type": "code",
      "metadata": {
        "colab": {
          "base_uri": "https://localhost:8080/"
        },
        "id": "FRQbZ46lTKL5",
        "outputId": "d4621598-6f59-499a-8b27-d598c44356ff"
      },
      "source": [
        "import random\n",
        "\n",
        "random_integer = random.randint(1,2)\n",
        "coin = input(\"Escoja Cara o Sello\\n\")\n",
        "\n",
        "if random_integer == 1:\n",
        "  coin_random = 'Cara'\n",
        "else:\n",
        "  coin_random = 'Sello'\n",
        "\n",
        "if coin_random == coin:\n",
        "  print(f'Has ganado, el resultado es {coin_random}')\n",
        "else:\n",
        "  print(f'Vuelve a intentarlo, la moneda tiene {coin_random}')\n"
      ],
      "execution_count": null,
      "outputs": [
        {
          "output_type": "stream",
          "text": [
            "Escoja Cara o Sello\n",
            "Sello\n",
            "Has ganado, el resultado es Sello\n"
          ],
          "name": "stdout"
        }
      ]
    },
    {
      "cell_type": "markdown",
      "metadata": {
        "id": "gZ36w0LCQvVW"
      },
      "source": [
        "## **Who's Paying**\n",
        "---\n",
        "# Instructions\n",
        "\n",
        "You are going to write a program which will select a random name from a list of names. The person selected will have to pay for everybody's food bill. \n",
        "\n",
        "**Important**: You are not allowed to use the `choice()` function.\n",
        "\n",
        "**Line 8** splits the string `names_string` into individual names and puts them inside a **List** called `names`. For this to work, you must enter all the names as name followed by comma then space. e.g. name, name, name\n",
        "\n",
        "# Example Input\n",
        "\n",
        "```\n",
        "Angela, Ben, Jenny, Michael, Chloe\n",
        "```\n",
        "Note: notice that there is a space between the command the next name. \n",
        "# Example Output\n",
        "\n",
        "```\n",
        "Michael is going to buy the meal today!\n",
        "```\n",
        "\n",
        "\n",
        "# Hint\n",
        "\n",
        "1. You might need the help of the `len()` function.   \n",
        "\n",
        "[https://stackoverflow.com/questions/1712227/how-do-i-get-the-number-of-elements-in-a-list](https://stackoverflow.com/questions/1712227/how-do-i-get-the-number-of-elements-in-a-list)\n",
        "\n",
        "2. Remember that Lists start at index 0!\n"
      ]
    },
    {
      "cell_type": "code",
      "metadata": {
        "id": "GShu2gWhRQBm",
        "colab": {
          "base_uri": "https://localhost:8080/"
        },
        "outputId": "eda509e9-97d2-4dd2-b87d-7f7f924b65c5"
      },
      "source": [
        "# Split string method\n",
        "import random\n",
        "names_string = input(\"Give me everybody's names, separated by a comma. \\n\")\n",
        "names = names_string.split(\", \")\n",
        "# 🚨 Don't change the code above 👆\n",
        "\n",
        "#Write your code below this line 👇\n",
        "opcion = random.randint(0,len(names)-1)\n",
        "\n",
        "print(names[opcion], 'is going to buy the meal today!')"
      ],
      "execution_count": 25,
      "outputs": [
        {
          "output_type": "stream",
          "text": [
            "Give me everybody's names, separated by a comma. \n",
            "maria, diana, jose, pablo, wilson\n",
            "jose is going to buy the meal today!\n"
          ],
          "name": "stdout"
        }
      ]
    },
    {
      "cell_type": "code",
      "metadata": {
        "colab": {
          "base_uri": "https://localhost:8080/"
        },
        "id": "2FT6aItvWCOR",
        "outputId": "02643908-6db7-4e01-ecf7-11f90e01da20"
      },
      "source": [
        "#Ahora usando choice()\n",
        "import random\n",
        "names_string = input(\"Give me everybody's names, separated by a comma. \\n\")\n",
        "names = names_string.split(\", \")\n",
        "opcion = random.choice(names)\n",
        "\n",
        "print(opcion, 'is going to buy the meal today!' )"
      ],
      "execution_count": 31,
      "outputs": [
        {
          "output_type": "stream",
          "text": [
            "Give me everybody's names, separated by a comma. \n",
            "maria, diana, jose, pablo, wilson\n",
            "diana is going to buy the meal today!\n"
          ],
          "name": "stdout"
        }
      ]
    },
    {
      "cell_type": "markdown",
      "metadata": {
        "id": "lADA2u8ac_Dr"
      },
      "source": [
        "# **Treasure Map**\n",
        "---\n",
        "\n",
        "![](https://cdn.fs.teachablecdn.com/wiFJAkZZSG2RpGsxYgDO)\n",
        "# Instructions\n",
        "\n",
        "You are going to write a program which will mark a spot with an X.\n",
        "\n",
        "In the starting code, you will find a variable called ```map```.\n",
        "\n",
        "This ```map``` contains a nested list.\n",
        "When ```map``` is printed this is what the nested list looks like:\n",
        "```\n",
        "['⬜️', '⬜️', '⬜️'],['⬜️', '⬜️', '⬜️'],['⬜️', '⬜️', '⬜️']\n",
        "```\n",
        "In the starting code, we have used new lines (```\\n```) to format the three rows into a square, like this:\n",
        "```\n",
        "['⬜️', '⬜️', '⬜️']\n",
        "['⬜️', '⬜️', '⬜️']\n",
        "['⬜️', '⬜️', '⬜️']\n",
        "```\n",
        "This is to try and simulate the coordinates on a real map. \n",
        "\n",
        "![](https://res.cloudinary.com/dk-find-out/image/upload/q_80,w_1440,f_auto/Co-ordinates_oggjzg.jpg)\n",
        "\n",
        "Your job is to write a program that allows you to mark a square on the map using a two-digit system. The first digit is the vertical column number and the second digit is the horizontal row number. e.g.:\n",
        "\n",
        "![](https://cdn.fs.teachablecdn.com/PfApnWnTam1pLUeKbUWZ)\n",
        "\n",
        "First your program must take the user input and convert it to a usable format. \n",
        "\n",
        "Next, you need to use it to update your nested list with an \"x\". \n",
        "\n",
        "# Example Input 1\n",
        "\n",
        "column 2, row 3 would be entered as:\n",
        "\n",
        "```\n",
        "23\n",
        "```\n",
        "\n",
        "# Example Output 1\n",
        "\n",
        "```\n",
        "['⬜️', '⬜️', '⬜️']\n",
        "\n",
        "['⬜️', '⬜️', '⬜️']\n",
        "\n",
        "['⬜️', 'X', '⬜️']\n",
        "```\n",
        "\n",
        "# Example Input 2\n",
        "\n",
        "column 3, row 1 would be entered as:\n",
        "\n",
        "```\n",
        "31\n",
        "```\n",
        "\n",
        "# Example Output 2\n",
        "\n",
        "```\n",
        "['⬜️', '⬜️', 'X']\n",
        "\n",
        "['⬜️', '⬜️', '⬜️']\n",
        "\n",
        "['⬜️', '⬜️', '⬜️']\n",
        "```\n",
        "\n",
        "e.g. When you hit **run**, this is what should happen: \n",
        "\n",
        "![](https://cdn.fs.teachablecdn.com/5hliFjyIR96LdestyfPd)\n",
        "\n",
        "# Hint\n",
        "\n",
        "1. Remember that Lists start at index 0!\n",
        "2. ```map``` is just a variable that contains a nested list. It's not related to the map function in Python."
      ]
    },
    {
      "cell_type": "code",
      "metadata": {
        "colab": {
          "base_uri": "https://localhost:8080/"
        },
        "id": "rUtJomxBfC2w",
        "outputId": "33ae51bf-9fd8-4063-804b-10f80ca6d922"
      },
      "source": [
        "# 🚨 Don't change the code below 👇\n",
        "row1 = [\"⬜️\",\"⬜️\",\"⬜️\"]\n",
        "row2 = [\"⬜️\",\"⬜️\",\"⬜️\"]\n",
        "row3 = [\"⬜️\",\"⬜️\",\"⬜️\"]\n",
        "map = [row1, row2, row3]\n",
        "print(f\"{row1}\\n{row2}\\n{row3}\")\n",
        "position = input(\"Where do you want to put the treasure? \")\n",
        "# 🚨 Don't change the code above 👆\n",
        "\n",
        "#Write your code below this row 👇\n",
        "\n",
        "position_col = int(position[1]) - 1\n",
        "position_row = int(position[0]) - 1\n",
        "map[position_col][position_row] = 'X'\n",
        "\n",
        "\n",
        "#Write your code above this row 👆\n",
        "\n",
        "# 🚨 Don't change the code below 👇\n",
        "print(f\"{row1}\\n{row2}\\n{row3}\")"
      ],
      "execution_count": 54,
      "outputs": [
        {
          "output_type": "stream",
          "text": [
            "['⬜️', '⬜️', '⬜️']\n",
            "['⬜️', '⬜️', '⬜️']\n",
            "['⬜️', '⬜️', '⬜️']\n",
            "Where do you want to put the treasure? 32\n",
            "['⬜️', '⬜️', '⬜️']\n",
            "['⬜️', '⬜️', 'X']\n",
            "['⬜️', '⬜️', '⬜️']\n"
          ],
          "name": "stdout"
        }
      ]
    },
    {
      "cell_type": "markdown",
      "metadata": {
        "id": "F16si01Ho_c4"
      },
      "source": [
        "# **Proyecto Día 4**\n",
        "# **ROCK, PAPER, SCISSORS**\n",
        "---\n",
        "## Reglas:\n",
        "\n",
        "1. Piedra gana sobre tijeras\n",
        "2. Tijeras gana sobre papel\n",
        "3. Papel gana sobre piedra"
      ]
    },
    {
      "cell_type": "code",
      "metadata": {
        "colab": {
          "base_uri": "https://localhost:8080/"
        },
        "id": "9L2N0s9vptHA",
        "outputId": "5d3315d1-5b46-4a9e-c40a-aa28b56f23be"
      },
      "source": [
        "import random as r\n",
        "select_human = int(input('What do you choose? Type:\\n0 for Rock,\\n1 for Scissors,\\n2 for Paper\\n====>>> Human\\t: '))\n",
        "select_computer = r.choice([0,1,2])\n",
        "print('====>>> Computer:', select_computer)\n",
        "rock = '''\n",
        "    _______\n",
        "---'   ____)\n",
        "      (_____)\n",
        "      (_____)\n",
        "      (____)\n",
        "---.__(___)\n",
        "'''\n",
        "\n",
        "paper = '''\n",
        "    _______\n",
        "---'   ____)____\n",
        "          ______)\n",
        "          _______)\n",
        "         _______)\n",
        "---.__________)\n",
        "'''\n",
        "\n",
        "scissors = '''\n",
        "    _______\n",
        "---'   ____)____\n",
        "          ______)\n",
        "       __________)\n",
        "      (____)\n",
        "---.__(___)\n",
        "'''\n",
        "option_image = [rock, scissors, paper]\n",
        "print(f'You chose:\\n {option_image[select_human]}')\n",
        "print(f'Computer chose:\\n {option_image[select_computer]}')\n",
        "\n",
        "if select_computer == 0:  \n",
        "  if select_human == 1:\n",
        "    print('You lose')\n",
        "  elif select_human == 2:\n",
        "    print('You Win')\n",
        "  else:\n",
        "    print('Repeat')  \n",
        "elif select_computer == 1:\n",
        "  if select_human == 2:\n",
        "    print('You lose')  \n",
        "  elif select_human == 0:\n",
        "    print('You Win')\n",
        "  else:\n",
        "    print('Repeat')  \n",
        "elif select_computer == 2:\n",
        "  if select_human == 0:\n",
        "    print('You lose')  \n",
        "  elif select_human == 1:\n",
        "    print('You Win')\n",
        "  else:\n",
        "    print('Repeat')  \n"
      ],
      "execution_count": 85,
      "outputs": [
        {
          "output_type": "stream",
          "text": [
            "What do you choose? Type:\n",
            "0 for Rock,\n",
            "1 for Scissors,\n",
            "2 for Paper\n",
            "====>>> Human\t: 1\n",
            "====>>> Computer: 2\n",
            "You chose:\n",
            " \n",
            "    _______\n",
            "---'   ____)____\n",
            "          ______)\n",
            "       __________)\n",
            "      (____)\n",
            "---.__(___)\n",
            "\n",
            "Computer chose:\n",
            " \n",
            "    _______\n",
            "---'   ____)____\n",
            "          ______)\n",
            "          _______)\n",
            "         _______)\n",
            "---.__________)\n",
            "\n",
            "You Win\n"
          ],
          "name": "stdout"
        }
      ]
    },
    {
      "cell_type": "code",
      "metadata": {
        "colab": {
          "base_uri": "https://localhost:8080/"
        },
        "id": "srQqLVIFrNiw",
        "outputId": "2e7e6c9f-079b-4dce-aab3-c9beeaf76277"
      },
      "source": [
        "import random as r\n",
        "\n",
        "a = r.choice([1,2,3])\n",
        "print(a)"
      ],
      "execution_count": 64,
      "outputs": [
        {
          "output_type": "stream",
          "text": [
            "1\n"
          ],
          "name": "stdout"
        }
      ]
    }
  ]
}