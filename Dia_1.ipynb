{
  "nbformat": 4,
  "nbformat_minor": 0,
  "metadata": {
    "colab": {
      "name": "Dia_1.ipynb",
      "provenance": [],
      "authorship_tag": "ABX9TyNmvscATBn0AESR4kElFC9q",
      "include_colab_link": true
    },
    "kernelspec": {
      "name": "python3",
      "display_name": "Python 3"
    }
  },
  "cells": [
    {
      "cell_type": "markdown",
      "metadata": {
        "id": "view-in-github",
        "colab_type": "text"
      },
      "source": [
        "<a href=\"https://colab.research.google.com/github/WilsonGLan/Reto_100_dias/blob/main/Dia_1.ipynb\" target=\"_parent\"><img src=\"https://colab.research.google.com/assets/colab-badge.svg\" alt=\"Open In Colab\"/></a>"
      ]
    },
    {
      "cell_type": "markdown",
      "metadata": {
        "id": "jEgnInuxJvCS"
      },
      "source": [
        "## Variables\n",
        "\n",
        "# Instructions\n",
        "\n",
        "Write a program that switches the values stored in the variables a and b. \n",
        "\n",
        "**Warning.** Do not change the code on lines 1-4 and 12-18. Your program should work for different inputs. e.g. any value of a and b.b.\n",
        "\n",
        "# Example Input\n",
        "\n",
        "```\n",
        "a: 3\n",
        "```\n",
        "\n",
        "```\n",
        "b: 5\n",
        "```\n",
        "\n",
        "# Example Output\n",
        "\n",
        "```\n",
        "a: 5\n",
        "```\n",
        "\n",
        "```\n",
        "b: 3\n",
        "```\n",
        "# Hint\n",
        "\n",
        "1. You should not have to type any numbers in your code. \n",
        "2. You might need to make some more variables.\n",
        "\n"
      ]
    },
    {
      "cell_type": "code",
      "metadata": {
        "colab": {
          "base_uri": "https://localhost:8080/"
        },
        "id": "t6fC614uJrYj",
        "outputId": "ef4db9a5-d62d-4a62-fb92-71d16f47adbe"
      },
      "source": [
        "# 🚨 Don't change the code below 👇\n",
        "a = input(\"a: \")\n",
        "b = input(\"b: \")\n",
        "# 🚨 Don't change the code above 👆\n",
        "\n",
        "####################################\n",
        "#Write your code below this line 👇\n",
        "\n",
        "temp = a\n",
        "a = b\n",
        "b = temp\n",
        "\n",
        "#Write your code above this line 👆\n",
        "####################################\n",
        "\n",
        "# 🚨 Don't change the code below 👇\n",
        "print(\"a: \" + a)\n",
        "print(\"b: \" + b)"
      ],
      "execution_count": 1,
      "outputs": [
        {
          "output_type": "stream",
          "text": [
            "a: 1\n",
            "b: 5\n",
            "a: 5\n",
            "b: 1\n"
          ],
          "name": "stdout"
        }
      ]
    },
    {
      "cell_type": "markdown",
      "metadata": {
        "id": "n6EihUOJMVsy"
      },
      "source": [
        "**Proyecto final día 1**\n",
        "\n",
        "1. Crear un saludo para su programa\n",
        "2. Preguntar al usuario la ciudad donde el nació\n",
        "3. Preguntar al usuario por el nombre de una mascota\n",
        "4. Combinar el nombre de la ciudad y la mascota y mostralos como el nombre de la banda\n"
      ]
    },
    {
      "cell_type": "code",
      "metadata": {
        "colab": {
          "base_uri": "https://localhost:8080/"
        },
        "id": "qkvJ_G6lNKAF",
        "outputId": "961cef6e-fc14-4441-b890-099fe12eaf09"
      },
      "source": [
        "print(\"Bienvenido al sistema\")\n",
        "city = input(\"En que ciudad nació? \\n\")\n",
        "pet = input(\"Mencione el nombre de su mascota favorita: \\n\")\n",
        "print(\"El nombre de la banda será: \",city,pet)"
      ],
      "execution_count": 4,
      "outputs": [
        {
          "output_type": "stream",
          "text": [
            "Bienvenido al sistema\n",
            "En que ciudad nació? \n",
            "cali\n",
            "Mencione el nombre de su mascota favorita: \n",
            "valluno\n",
            "El nombre de la banda será:  cali valluno\n"
          ],
          "name": "stdout"
        }
      ]
    }
  ]
}