{
  "nbformat": 4,
  "nbformat_minor": 0,
  "metadata": {
    "colab": {
      "name": "Dia_8.ipynb",
      "provenance": [],
      "collapsed_sections": []
    },
    "kernelspec": {
      "name": "python3",
      "display_name": "Python 3"
    }
  },
  "cells": [
    {
      "cell_type": "code",
      "metadata": {
        "colab": {
          "base_uri": "https://localhost:8080/"
        },
        "id": "NOZzxFlo5h5U",
        "outputId": "ca0234e6-3c33-421a-af63-1b56a29bdfca"
      },
      "source": [
        "myCat = {'size': 'fat', 'color': 'gray', 'disposition': 'loud'}\r\n",
        "print(myCat['color'])\r\n",
        "list(myCat.items())\r\n",
        "\r\n",
        "for a, b in myCat.items():\r\n",
        "  n = a+':'+b\r\n",
        "  print(n)\r\n"
      ],
      "execution_count": null,
      "outputs": [
        {
          "output_type": "stream",
          "text": [
            "gray\n",
            "size:fat\n",
            "color:gray\n",
            "disposition:loud\n"
          ],
          "name": "stdout"
        }
      ]
    },
    {
      "cell_type": "markdown",
      "metadata": {
        "id": "tepR6sv54jrA"
      },
      "source": [
        "# **CODING CIPHER**\n",
        "---\n",
        "Ref: https://edube.org/learn/pe-2/four-simple-programs-12\n",
        "\n",
        "We've written it using the following assumptions:\n",
        "\n",
        "it accepts Latin letters only (note: the Romans used neither whitespaces nor digits)\n",
        "all letters of the message are in upper case (note: the Romans knew only capitals)\n",
        "Let's trace the code:\n",
        "\n",
        "1. line 02: ask the user to enter the open (unencrypted), one-line message;\n",
        "2. line 03: prepare a string for an encrypted message (empty for now)\n",
        "3. line 04: start the iteration through the message;\n",
        "4. line 05: if the current character is not alphabetic...\n",
        "5. line 06: ...ignore it;\n",
        "6. line 07: convert the letter to upper-case (it's preferable to do it blindly, rather than check whether it's needed or not)\n",
        "7. line 08: get the code of the letter and increment it by one;\n",
        "8. line 09: if the resulting code has \"left\" the Latin alphabet (if it's greater than the Z code)...\n",
        "9. line 10: ...change it to the A code;\n",
        "10. line 11: append the received character to the end of the encrypted message;\n",
        "11. line 13: print the cipher."
      ]
    },
    {
      "cell_type": "code",
      "metadata": {
        "id": "UP5sx2tl7R8v"
      },
      "source": [
        "text = input(\"Enter your message: \")\n",
        "cipher = ''\n",
        "for char in text:\n",
        "    if not char.isalpha():\n",
        "        continue\n",
        "    char = char.upper()\n",
        "    code = ord(char) + 1\n",
        "    if code > ord('Z'):\n",
        "        code = ord('A')\n",
        "    cipher += chr(code)\n",
        "\n",
        "print(cipher)\n"
      ],
      "execution_count": null,
      "outputs": []
    },
    {
      "cell_type": "markdown",
      "metadata": {
        "id": "oCkZUGlF7Rq2"
      },
      "source": [
        "#TODO-1: Create a function called 'encrypt' that takes the 'text' and 'shift' as inputs.\r\n",
        "Primero se debe crear una función llamada encrypt que usa la variable text y shift como entradas\r\n",
        "\r\n",
        "    #TODO-2: Inside the 'encrypt' function, shift each letter of the 'text' forwards in the alphabet by the shift amount and print the encrypted text.  \r\n",
        "    #e.g. \r\n",
        "    #plain_text = \"hello\"\r\n",
        "    #shift = 5\r\n",
        "    #cipher_text = \"mjqqt\"\r\n",
        "    #print output: \"The encoded text is mjqqt\"\r\n",
        "\r\n",
        "    ##HINT: How do you get the index of an item in a list:\r\n",
        "    #https://stackoverflow.com/questions/176918/finding-the-index-of-an-item-in-a-list\r\n",
        "\r\n",
        "    ##🐛Bug alert: What happens if you try to encode the word 'civilization'?🐛\r\n",
        "\r\n",
        "#TODO-3: Call the encrypt function and pass in the user inputs. You should be able to test the code and encrypt a message. \r\n",
        "\r\n"
      ]
    },
    {
      "cell_type": "code",
      "metadata": {
        "colab": {
          "base_uri": "https://localhost:8080/",
          "height": 452
        },
        "id": "lmTDv-Q2SnbL",
        "outputId": "28f1ada5-c509-4fae-e6a2-f6e5d3308d73"
      },
      "source": [
        "alphabet = ['a', 'b', 'c', 'd', 'e', 'f', 'g', 'h', 'i', 'j', 'k', 'l', 'm', 'n', 'o', 'p', 'q', 'r', 's', 't', 'u', 'v', 'w', 'x', 'y', 'z',\r\n",
        "            'a', 'b', 'c', 'd', 'e', 'f', 'g', 'h', 'i', 'j', 'k', 'l', 'm', 'n', 'o', 'p', 'q', 'r', 's', 't', 'u', 'v', 'w', 'x', 'y', 'z']\r\n",
        "\r\n",
        "def encrypt(text_send, number_shift):\r\n",
        "  cipher_text=''\r\n",
        "  for i in range(0,len(text_send)):\r\n",
        "    if text_send[i] in alphabet:\r\n",
        "      cipher_text += alphabet[alphabet.index(text_send[i])+number_shift]      \r\n",
        "    else:\r\n",
        "      cipher_text += text_send[i]\r\n",
        "  print(f'The encoded text is: {cipher_text}')\r\n",
        "\r\n",
        "direction = input(\"Type 'encode' to encrypt, type 'decode' to decrypt:\\n\").lower()\r\n",
        "text = i   put(\"Type your message:\\n\").lower()\r\n",
        "shift = int(input(\"Type the shift number:\\n\"))\r\n",
        "\r\n",
        "if direction == 'encode':\r\n",
        "  encrypt(text, shift)\r\n",
        "else:\r\n",
        "  print('por ahora no se ha trabajado en esta función')\r\n"
      ],
      "execution_count": null,
      "outputs": [
        {
          "output_type": "stream",
          "text": [
            "Type 'encode' to encrypt, type 'decode' to decrypt:\n",
            "encode\n",
            "Type your message:\n",
            "zola\n",
            "Type the shift number:\n",
            "5\n"
          ],
          "name": "stdout"
        },
        {
          "output_type": "error",
          "ename": "IndexError",
          "evalue": "ignored",
          "traceback": [
            "\u001b[0;31m---------------------------------------------------------------------------\u001b[0m",
            "\u001b[0;31mIndexError\u001b[0m                                Traceback (most recent call last)",
            "\u001b[0;32m<ipython-input-42-c25513c4577d>\u001b[0m in \u001b[0;36m<module>\u001b[0;34m()\u001b[0m\n\u001b[1;32m     15\u001b[0m \u001b[0;34m\u001b[0m\u001b[0m\n\u001b[1;32m     16\u001b[0m \u001b[0;32mif\u001b[0m \u001b[0mdirection\u001b[0m \u001b[0;34m==\u001b[0m \u001b[0;34m'encode'\u001b[0m\u001b[0;34m:\u001b[0m\u001b[0;34m\u001b[0m\u001b[0;34m\u001b[0m\u001b[0m\n\u001b[0;32m---> 17\u001b[0;31m   \u001b[0mencrypt\u001b[0m\u001b[0;34m(\u001b[0m\u001b[0mtext\u001b[0m\u001b[0;34m,\u001b[0m \u001b[0mshift\u001b[0m\u001b[0;34m)\u001b[0m\u001b[0;34m\u001b[0m\u001b[0;34m\u001b[0m\u001b[0m\n\u001b[0m\u001b[1;32m     18\u001b[0m \u001b[0;32melse\u001b[0m\u001b[0;34m:\u001b[0m\u001b[0;34m\u001b[0m\u001b[0;34m\u001b[0m\u001b[0m\n\u001b[1;32m     19\u001b[0m   \u001b[0mprint\u001b[0m\u001b[0;34m(\u001b[0m\u001b[0;34m'por ahora no se ha trabajado en esta función'\u001b[0m\u001b[0;34m)\u001b[0m\u001b[0;34m\u001b[0m\u001b[0;34m\u001b[0m\u001b[0m\n",
            "\u001b[0;32m<ipython-input-42-c25513c4577d>\u001b[0m in \u001b[0;36mencrypt\u001b[0;34m(text_send, number_shift)\u001b[0m\n\u001b[1;32m      5\u001b[0m   \u001b[0;32mfor\u001b[0m \u001b[0mi\u001b[0m \u001b[0;32min\u001b[0m \u001b[0mrange\u001b[0m\u001b[0;34m(\u001b[0m\u001b[0;36m0\u001b[0m\u001b[0;34m,\u001b[0m\u001b[0mlen\u001b[0m\u001b[0;34m(\u001b[0m\u001b[0mtext_send\u001b[0m\u001b[0;34m)\u001b[0m\u001b[0;34m)\u001b[0m\u001b[0;34m:\u001b[0m\u001b[0;34m\u001b[0m\u001b[0;34m\u001b[0m\u001b[0m\n\u001b[1;32m      6\u001b[0m     \u001b[0;32mif\u001b[0m \u001b[0mtext_send\u001b[0m\u001b[0;34m[\u001b[0m\u001b[0mi\u001b[0m\u001b[0;34m]\u001b[0m \u001b[0;32min\u001b[0m \u001b[0malphabet\u001b[0m\u001b[0;34m:\u001b[0m\u001b[0;34m\u001b[0m\u001b[0;34m\u001b[0m\u001b[0m\n\u001b[0;32m----> 7\u001b[0;31m       \u001b[0mcipher_text\u001b[0m \u001b[0;34m+=\u001b[0m \u001b[0malphabet\u001b[0m\u001b[0;34m[\u001b[0m\u001b[0malphabet\u001b[0m\u001b[0;34m.\u001b[0m\u001b[0mindex\u001b[0m\u001b[0;34m(\u001b[0m\u001b[0mtext_send\u001b[0m\u001b[0;34m[\u001b[0m\u001b[0mi\u001b[0m\u001b[0;34m]\u001b[0m\u001b[0;34m)\u001b[0m\u001b[0;34m+\u001b[0m\u001b[0mnumber_shift\u001b[0m\u001b[0;34m]\u001b[0m\u001b[0;34m\u001b[0m\u001b[0;34m\u001b[0m\u001b[0m\n\u001b[0m\u001b[1;32m      8\u001b[0m     \u001b[0;32melse\u001b[0m\u001b[0;34m:\u001b[0m\u001b[0;34m\u001b[0m\u001b[0;34m\u001b[0m\u001b[0m\n\u001b[1;32m      9\u001b[0m       \u001b[0mcipher_text\u001b[0m \u001b[0;34m+=\u001b[0m \u001b[0mtext_send\u001b[0m\u001b[0;34m[\u001b[0m\u001b[0mi\u001b[0m\u001b[0;34m]\u001b[0m\u001b[0;34m\u001b[0m\u001b[0;34m\u001b[0m\u001b[0m\n",
            "\u001b[0;31mIndexError\u001b[0m: list index out of range"
          ]
        }
      ]
    },
    {
      "cell_type": "code",
      "metadata": {
        "colab": {
          "base_uri": "https://localhost:8080/"
        },
        "id": "bQ_CK5AWd4La",
        "outputId": "95d6f271-0a4a-4ca5-d26e-4a9323668304"
      },
      "source": [
        "alphabet = ['a', 'b', 'c', 'd', 'e', 'f', 'g', 'h', 'i', 'j', 'k', 'l', 'm', 'n', 'o', 'p', 'q', 'r', 's', 't', 'u', 'v', 'w', 'x', 'y', 'z',\r\n",
        "            'a', 'b', 'c', 'd', 'e', 'f', 'g', 'h', 'i', 'j', 'k', 'l', 'm', 'n', 'o', 'p', 'q', 'r', 's', 't', 'u', 'v', 'w', 'x', 'y', 'z']\r\n",
        "\r\n",
        "def encrypt(text_send, number_shift):\r\n",
        "  cipher_text=''\r\n",
        "  for i in range(0,len(text_send)):\r\n",
        "    if text_send[i] in alphabet:\r\n",
        "      cipher_text += alphabet[alphabet.index(text_send[i])+number_shift]      \r\n",
        "    else:\r\n",
        "      cipher_text += text_send[i]\r\n",
        "  print(f'The encoded text is: {cipher_text}')\r\n",
        "\r\n",
        "def decrypt(text_send, number_shift):\r\n",
        "  cipher_text=''\r\n",
        "  for i in range(0,len(text_send)):\r\n",
        "    if text_send[i] in alphabet:\r\n",
        "      cipher_text += alphabet[alphabet.index(text_send[i])-number_shift]      \r\n",
        "    else:\r\n",
        "      cipher_text += text_send[i]\r\n",
        "  print(f'The decoded text is: {cipher_text}')\r\n",
        "\r\n",
        "direction = input(\"Type 'encode' to encrypt, type 'decode' to decrypt:\\n\").lower()\r\n",
        "text = input(\"Type your message:\\n\").lower()\r\n",
        "shift = int(input(\"Type the shift number:\\n\"))\r\n",
        "\r\n",
        "if direction == 'encode':\r\n",
        "  encrypt(text, shift)\r\n",
        "elif direction == 'decode':\r\n",
        "  decrypt(text, shift)\r\n",
        "  \r\n"
      ],
      "execution_count": null,
      "outputs": [
        {
          "output_type": "stream",
          "text": [
            "Type 'encode' to encrypt, type 'decode' to decrypt:\n",
            "decode\n",
            "Type your message:\n",
            "mjqqt\n",
            "Type the shift number:\n",
            "5\n",
            "The decoded text is: hello\n"
          ],
          "name": "stdout"
        }
      ]
    },
    {
      "cell_type": "code",
      "metadata": {
        "colab": {
          "base_uri": "https://localhost:8080/"
        },
        "id": "MrvfT8qjj7pA",
        "outputId": "72350539-2019-498c-bf4d-a2e538f27a57"
      },
      "source": [
        "alphabet = ['a', 'b', 'c', 'd', 'e', 'f', 'g', 'h', 'i', 'j', 'k', 'l', \n",
        "            'm', 'n', 'o', 'p', 'q', 'r', 's', 't', 'u', 'v', 'w', 'x', \n",
        "            'y', 'z', 'a', 'b', 'c', 'd', 'e', 'f', 'g', 'h', 'i', 'j', \n",
        "            'k', 'l', 'm', 'n', 'o', 'p', 'q', 'r', 's', 't', 'u', 'v', \n",
        "            'w', 'x', 'y', 'z']\n",
        "\n",
        "def caesar (choice_direction, text_send, number_shift):\n",
        "  cipher_text=''\n",
        "  for i in range(0,len(text_send)):\n",
        "    if text_send[i] in alphabet:\n",
        "      if choice_direction == 'encode':\n",
        "        cipher_text += alphabet[alphabet.index(text_send[i])+number_shift]\n",
        "      else:\n",
        "        cipher_text += alphabet[alphabet.index(text_send[i])-number_shift]\n",
        "    else:\n",
        "      cipher_text += text_send[i]\n",
        "  print(f'The {choice_direction}d text is: {cipher_text}')\n",
        "\n",
        "direction = input(\"Type 'encode' to encrypt, type 'decode' to decrypt:\\n\").lower()\n",
        "text = input(\"Type your message:\\n\").lower()\n",
        "shift = int(input(\"Type the shift number:\\n\"))\n",
        "caesar(direction, text, shift)  \n"
      ],
      "execution_count": 1,
      "outputs": [
        {
          "output_type": "stream",
          "text": [
            "Type 'encode' to encrypt, type 'decode' to decrypt:\n",
            "encode\n",
            "Type your message:\n",
            "hola\n",
            "Type the shift number:\n",
            "3\n",
            "The encoded text is: krod\n"
          ],
          "name": "stdout"
        }
      ]
    },
    {
      "cell_type": "code",
      "metadata": {
        "id": "72BRAOrVlExW"
      },
      "source": [
        "logo = \"\"\"           \n",
        " ,adPPYba, ,adPPYYba,  ,adPPYba, ,adPPYba, ,adPPYYba, 8b,dPPYba,  \n",
        "a8\"     \"\" \"\"     `Y8 a8P_____88 I8[    \"\" \"\"     `Y8 88P'   \"Y8  \n",
        "8b         ,adPPPPP88 8PP\"\"\"\"\"\"\"  `\"Y8ba,  ,adPPPPP88 88          \n",
        "\"8a,   ,aa 88,    ,88 \"8b,   ,aa aa    ]8I 88,    ,88 88          \n",
        " `\"Ybbd8\"' `\"8bbdP\"Y8  `\"Ybbd8\"' `\"YbbdP\"' `\"8bbdP\"Y8 88   \n",
        "            88             88                                 \n",
        "           \"\"             88                                 \n",
        "                          88                                 \n",
        " ,adPPYba, 88 8b,dPPYba,  88,dPPYba,   ,adPPYba, 8b,dPPYba,  \n",
        "a8\"     \"\" 88 88P'    \"8a 88P'    \"8a a8P_____88 88P'   \"Y8  \n",
        "8b         88 88       d8 88       88 8PP\"\"\"\"\"\"\" 88          \n",
        "\"8a,   ,aa 88 88b,   ,a8\" 88       88 \"8b,   ,aa 88          \n",
        " `\"Ybbd8\"' 88 88`YbbdP\"'  88       88  `\"Ybbd8\"' 88          \n",
        "              88                                             \n",
        "              88           \n",
        "\"\"\""
      ],
      "execution_count": 10,
      "outputs": []
    },
    {
      "cell_type": "code",
      "metadata": {
        "id": "CuTW_XXukG62",
        "colab": {
          "base_uri": "https://localhost:8080/",
          "height": 376
        },
        "outputId": "743040ca-d818-42d1-f289-c25d15a1ca00"
      },
      "source": [
        "from art import logo\n",
        "\n",
        "\n",
        "alphabet = ['a', 'b', 'c', 'd', 'e', 'f', 'g', 'h', 'i', 'j', 'k', 'l', \n",
        "            'm', 'n', 'o', 'p', 'q', 'r', 's', 't', 'u', 'v', 'w', 'x', \n",
        "            'y', 'z', 'a', 'b', 'c', 'd', 'e', 'f', 'g', 'h', 'i', 'j', \n",
        "            'k', 'l', 'm', 'n', 'o', 'p', 'q', 'r', 's', 't', 'u', 'v', \n",
        "            'w', 'x', 'y', 'z']\n",
        "\n",
        "def caesar (choice_direction, text_send, number_shift):\n",
        "  cipher_text=''\n",
        "  for i in range(0,len(text_send)):\n",
        "    if text_send[i] in alphabet:\n",
        "      if choice_direction == 'encode':\n",
        "        cipher_text += alphabet[alphabet.index(text_send[i])+number_shift]\n",
        "      else:\n",
        "        cipher_text += alphabet[alphabet.index(text_send[i])-number_shift]\n",
        "    else:\n",
        "      cipher_text += text_send[i]\n",
        "  print(f'The {choice_direction}d text is: {cipher_text}')\n",
        "\n",
        "print(logo)\n",
        "\n",
        "should_end = False\n",
        "\n",
        "while not should_end:\n",
        "  direction = input(\"Type 'encode' to encrypt, type 'decode' to decrypt:\\n\").lower()\n",
        "  text = input(\"Type your message:\\n\").lower()\n",
        "  shift = int(input(\"Type the shift number:\\n\"))\n",
        "  shift %= 26\n",
        "  caesar(direction, text, shift)  \n",
        "\n",
        "  restart = input(\"Type 'yes' if you want to go again. Otherwise type 'no'.\\n\")\n",
        "  if restart == \"no\":\n",
        "    should_end = True\n",
        "    print(\"Bye\")"
      ],
      "execution_count": 11,
      "outputs": [
        {
          "output_type": "error",
          "ename": "ModuleNotFoundError",
          "evalue": "ignored",
          "traceback": [
            "\u001b[0;31m---------------------------------------------------------------------------\u001b[0m",
            "\u001b[0;31mModuleNotFoundError\u001b[0m                       Traceback (most recent call last)",
            "\u001b[0;32m<ipython-input-11-a271e15126c9>\u001b[0m in \u001b[0;36m<module>\u001b[0;34m()\u001b[0m\n\u001b[0;32m----> 1\u001b[0;31m \u001b[0;32mfrom\u001b[0m \u001b[0mart\u001b[0m \u001b[0;32mimport\u001b[0m \u001b[0mlogo\u001b[0m\u001b[0;34m\u001b[0m\u001b[0;34m\u001b[0m\u001b[0m\n\u001b[0m\u001b[1;32m      2\u001b[0m \u001b[0;34m\u001b[0m\u001b[0m\n\u001b[1;32m      3\u001b[0m \u001b[0;34m\u001b[0m\u001b[0m\n\u001b[1;32m      4\u001b[0m alphabet = ['a', 'b', 'c', 'd', 'e', 'f', 'g', 'h', 'i', 'j', 'k', 'l', \n\u001b[1;32m      5\u001b[0m             \u001b[0;34m'm'\u001b[0m\u001b[0;34m,\u001b[0m \u001b[0;34m'n'\u001b[0m\u001b[0;34m,\u001b[0m \u001b[0;34m'o'\u001b[0m\u001b[0;34m,\u001b[0m \u001b[0;34m'p'\u001b[0m\u001b[0;34m,\u001b[0m \u001b[0;34m'q'\u001b[0m\u001b[0;34m,\u001b[0m \u001b[0;34m'r'\u001b[0m\u001b[0;34m,\u001b[0m \u001b[0;34m's'\u001b[0m\u001b[0;34m,\u001b[0m \u001b[0;34m't'\u001b[0m\u001b[0;34m,\u001b[0m \u001b[0;34m'u'\u001b[0m\u001b[0;34m,\u001b[0m \u001b[0;34m'v'\u001b[0m\u001b[0;34m,\u001b[0m \u001b[0;34m'w'\u001b[0m\u001b[0;34m,\u001b[0m \u001b[0;34m'x'\u001b[0m\u001b[0;34m,\u001b[0m\u001b[0;34m\u001b[0m\u001b[0;34m\u001b[0m\u001b[0m\n",
            "\u001b[0;31mModuleNotFoundError\u001b[0m: No module named 'art'",
            "",
            "\u001b[0;31m---------------------------------------------------------------------------\u001b[0;32m\nNOTE: If your import is failing due to a missing package, you can\nmanually install dependencies using either !pip or !apt.\n\nTo view examples of installing some common dependencies, click the\n\"Open Examples\" button below.\n\u001b[0;31m---------------------------------------------------------------------------\u001b[0m\n"
          ]
        }
      ]
    },
    {
      "cell_type": "code",
      "metadata": {
        "id": "DbhlP9mrkbA4"
      },
      "source": [
        ""
      ],
      "execution_count": null,
      "outputs": []
    }
  ]
}