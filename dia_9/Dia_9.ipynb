{
  "nbformat": 4,
  "nbformat_minor": 0,
  "metadata": {
    "colab": {
      "name": "Dia_9.ipynb",
      "provenance": [],
      "collapsed_sections": []
    },
    "kernelspec": {
      "name": "python3",
      "display_name": "Python 3"
    }
  },
  "cells": [
    {
      "cell_type": "markdown",
      "metadata": {
        "id": "A_Uffvc8eT2i"
      },
      "source": [
        "## Grading Program\n",
        "---\n",
        "# Instructions\n",
        "\n",
        "You have access to a database of `student_scores` in the format of a dictionary. The **keys** in `student_scores` are the **names** of the students and the **values** are their exam **scores**. \n",
        "\n",
        "Write a program that **converts their scores to grades**. By the end of your program, you should have a new dictionary called `student_grades` that should contain student **names** for **keys** and their **grades** for **values**. T**he final version** of the `student_grades` dictionary will be checked. \n",
        "\n",
        "**DO NOT** modify lines 1-7 to change the existing `student_scores` dictionary. \n",
        "\n",
        "**DO NOT** write any print statements.\n",
        "\n",
        "This is the scoring criteria:\n",
        "\n",
        "> Scores 91 - 100: Grade = \"Outstanding\"\n",
        "\n",
        "> Scores 81 - 90: Grade = \"Exceeds Expectations\"\n",
        "\n",
        "> Scores 71 - 80: Grade = \"Acceptable\"\n",
        "\n",
        "> Scores 70 or lower: Grade = \"Fail\"\n",
        "\n",
        "# Expected Output\n",
        "\n",
        "```\n",
        "'{'Harry': 'Exceeds Expectations', 'Ron': 'Acceptable', 'Hermione': 'Outstanding', 'Draco': 'Acceptable', 'Neville': 'Fail'}'\n",
        "```\n",
        "\n",
        "# Hint\n",
        "1. Remember that looping through a Dictionary will only give you the **keys** and not the values. \n",
        "\n",
        "2. If in doubt as to why your code is not doing what you expected, you can always print out the intermediate values. \n",
        "\n",
        "3. At the **end** of your program, the print statement will show the final `student_scores` dictionary, do not change this.\n",
        "\n",
        "# Test Your Code\n",
        "\n",
        "Before checking the solution, try copy-pasting your code into this repl: \n",
        "\n",
        "[https://repl.it/@appbrewery/day-9-1-test-your-code](https://repl.it/@appbrewery/day-9-1-test-your-code)\n",
        "\n",
        "This repl includes my testing code that will check if your code meets this assignment's objectives. \n",
        "\n",
        "\n",
        "# Solution\n",
        "\n",
        "[https://repl.it/@appbrewery/day-9-1-solution](https://repl.it/@appbrewery/day-9-1-solution)\n",
        "\n"
      ]
    },
    {
      "cell_type": "markdown",
      "metadata": {
        "id": "gSy4INRbuOaS"
      },
      "source": [
        "## **Dictionary in List**\n",
        "---\n",
        "# Instructions\n",
        "\n",
        "You are going to write a program that adds to a `travel_log`. You can see a travel_log which is a **List** that contains 2 **Dictionaries**. \n",
        "\n",
        "Write a function that will work with the following line of code on line 21 to add the entry for Russia to the `travel_log`. \n",
        "\n",
        "```\n",
        "add_new_country(\"Russia\", 2, [\"Moscow\", \"Saint Petersburg\"])\n",
        "```\n",
        "\n",
        "> `You've visited Russia 2 times.`\n",
        "\n",
        "> `You've been to Moscow and Saint Petersburg.`\n",
        "\n",
        "**DO NOT** modify the `travel_log` directly. You need to create a function that modifies it. \n",
        "\n",
        "# Hint\n",
        "\n",
        "1. Look at the function call above to see what the name of the function should be.\n",
        "\n",
        "2. The inputs for the function are positional arguments. The order is very important.\n",
        "\n",
        "3. Feel free to choose your own parameter names.\n",
        "\n",
        "# Test Your Code\n",
        "\n",
        "Before checking the solution, try copy-pasting your code into this repl: \n",
        "\n",
        "[https://repl.it/@appbrewery/day-9-2-test-your-code](https://repl.it/@appbrewery/day-9-2-test-your-code)\n",
        "\n",
        "This repl includes my testing code that will check if your code meets this assignment's objectives. \n",
        "\n",
        "\n",
        "# Solution\n",
        "\n",
        "[https://repl.it/@appbrewery/day-9-2-solution](https://repl.it/@appbrewery/day-9-2-solution)"
      ]
    },
    {
      "cell_type": "code",
      "metadata": {
        "id": "NZD0n7tKdphu",
        "colab": {
          "base_uri": "https://localhost:8080/"
        },
        "outputId": "483a203e-1a69-47e8-d16a-8e1d8f65e17b"
      },
      "source": [
        "travel_log = [\n",
        "{\n",
        "  \"country\": \"France\",\n",
        "  \"visits\": 12,\n",
        "  \"cities\": [\"Paris\", \"Lille\", \"Dijon\"]\n",
        "},\n",
        "{\n",
        "  \"country\": \"Germany\",\n",
        "  \"visits\": 5,\n",
        "  \"cities\": [\"Berlin\", \"Hamburg\", \"Stuttgart\"]\n",
        "},\n",
        "]\n",
        "#🚨 Do NOT change the code above\n",
        "\n",
        "#TODO: Write the function that will allow new countries\n",
        "#to be added to the travel_log. 👇\n",
        "\n",
        "def add_new_country(new_country, number_visited, city_visited):\n",
        "    #Primera manera\n",
        "    next_country={\"country\": new_country,\n",
        "                  \"visits\": number_visited,\n",
        "                  \"cities\": city_visited}\n",
        "    '''\n",
        "    Segunda manera:\n",
        "\n",
        "    next_country = {}\n",
        "    next_country[\"country\"] = new_country\n",
        "    next_country[\"visits\"] = number_visited\n",
        "    next_country[\"cities\"] = city_visited\n",
        "    '''\n",
        "    travel_log.append(next_country)\n",
        "\n",
        "\n",
        "#🚨 Do not change the code below\n",
        "add_new_country(\"Russia\", 2, [\"Moscow\", \"Saint Petersburg\"])\n",
        "print(travel_log)\n"
      ],
      "execution_count": 2,
      "outputs": [
        {
          "output_type": "stream",
          "text": [
            "[{'country': 'France', 'visits': 12, 'cities': ['Paris', 'Lille', 'Dijon']}, {'country': 'Germany', 'visits': 5, 'cities': ['Berlin', 'Hamburg', 'Stuttgart']}, {'country': 'Russia', 'visits': 2, 'cities': ['Moscow', 'Saint Petersburg']}]\n"
          ],
          "name": "stdout"
        }
      ]
    },
    {
      "cell_type": "markdown",
      "metadata": {
        "id": "RDFPExAXJ29U"
      },
      "source": [
        "# **PROYECTO**\n",
        "---\n",
        "## Blind Auction\n",
        "\n",
        "Desarrollar un programa que simule una subasta. Debe solicitar el nombre de la persona que oferta y el valor ofertado; y despues debe preguntar si hay otra persona que quiere ofertar, si es así entonces borra la pantalla y vuelve a realizar las mismas preguntas. Los datos se deben guardar en un diccionario en donde el nombre es la clave y la oferta es el valor. Cuando finalicen de ofertar se debe mostrar al ganador quien es la persona que oferto con el maximo valor."
      ]
    },
    {
      "cell_type": "code",
      "metadata": {
        "id": "UJgjsTPWL1yR"
      },
      "source": [
        "## art.py\n",
        "\n",
        "logo = '''\n",
        "                         ___________\n",
        "                         \\         /\n",
        "                          )_______(\n",
        "                          |\"\"\"\"\"\"\"|_.-._,.---------.,_.-._\n",
        "                          |       | | |               | | ''-.\n",
        "                          |       |_| |_             _| |_..-'\n",
        "                          |_______| '-' `'---------'` '-'\n",
        "                          )\"\"\"\"\"\"\"(\n",
        "                         /_________\\\\\n",
        "                       .-------------.\n",
        "                      /_______________\\\\\n",
        "'''"
      ],
      "execution_count": null,
      "outputs": []
    },
    {
      "cell_type": "code",
      "metadata": {
        "id": "SJXKUwMlK2Oz"
      },
      "source": [
        "### PRIMERA SOLUCIÓN\n",
        "from replit import clear\n",
        "from art import logo\n",
        "\n",
        "auctions ={}\n",
        "\n",
        "def new_bid():\n",
        "    name = input(\"What is your name?: \")\n",
        "    bid = int(input(\"What is your bid?: $\"))\n",
        "    answer = input(\"Are there any other bidders? Type 'yes' or 'no'.\\n\")\n",
        "\n",
        "    auctions[name]=bid    \n",
        "\n",
        "    if answer == 'yes':\n",
        "        clear()\n",
        "        new_bid()\n",
        "\n",
        "print(logo)\n",
        "print(\"Wellcome to the secret auction program\")\n",
        "new_bid()\n",
        "#print(auctions)\n",
        "max_bid = max(auctions.values())\n",
        "\n",
        "for values in auctions:\n",
        "    if auctions[values] == max_bid:\n",
        "        print(\"The winner is \",values)\n",
        "        break\n",
        "\n"
      ],
      "execution_count": 3,
      "outputs": []
    },
    {
      "cell_type": "code",
      "metadata": {
        "id": "RslIxK0HLVDz"
      },
      "source": [
        "##Segunda solución\n",
        "from replit import clear\n",
        "from art import logo\n",
        "print(logo)\n",
        "\n",
        "bids = {}\n",
        "bidding_finished = False\n",
        "\n",
        "def find_highest_bidder(bidding_record):\n",
        "  highest_bid = 0\n",
        "  winner = \"\"\n",
        "  # bidding_record = {\"Angela\": 123, \"James\": 321}\n",
        "  for bidder in bidding_record:\n",
        "    bid_amount = bidding_record[bidder]\n",
        "    if bid_amount > highest_bid: \n",
        "      highest_bid = bid_amount\n",
        "      winner = bidder\n",
        "  print(f\"The winner is {winner} with a bid of ${highest_bid}\")\n",
        "\n",
        "while not bidding_finished:\n",
        "  name = input(\"What is your name?: \")\n",
        "  price = int(input(\"What is your bid?: $\"))\n",
        "  bids[name] = price\n",
        "  should_continue = input(\"Are there any other bidders? Type 'yes or 'no'.\\n\")\n",
        "  if should_continue == \"no\":\n",
        "    bidding_finished = True\n",
        "    find_highest_bidder(bids)\n",
        "  elif should_continue == \"yes\":\n",
        "    clear()\n",
        "  \n"
      ],
      "execution_count": null,
      "outputs": []
    }
  ]
}