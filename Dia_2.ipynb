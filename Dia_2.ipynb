{
  "nbformat": 4,
  "nbformat_minor": 0,
  "metadata": {
    "colab": {
      "name": "Dia_2.ipynb",
      "provenance": [],
      "authorship_tag": "ABX9TyNKmqdetn3dYoRLNP3n26y7",
      "include_colab_link": true
    },
    "kernelspec": {
      "name": "python3",
      "display_name": "Python 3"
    }
  },
  "cells": [
    {
      "cell_type": "markdown",
      "metadata": {
        "id": "view-in-github",
        "colab_type": "text"
      },
      "source": [
        "<a href=\"https://colab.research.google.com/github/WilsonGLan/Reto_100_dias/blob/main/Dia_2.ipynb\" target=\"_parent\"><img src=\"https://colab.research.google.com/assets/colab-badge.svg\" alt=\"Open In Colab\"/></a>"
      ]
    },
    {
      "cell_type": "markdown",
      "metadata": {
        "id": "N9gPIj598NR8"
      },
      "source": [
        "**Data Types** <br><br>\n",
        "\n",
        "##Instructions\n",
        "Write a program that adds the digits in a 2 digit number. e.g. if the input was 35, then the output should be 3 + 5 = 8\n",
        "\n",
        "Warning. Do not change the code on lines 1-3. Your program should work for different inputs. e.g. any two-digit number."
      ]
    },
    {
      "cell_type": "code",
      "metadata": {
        "colab": {
          "base_uri": "https://localhost:8080/"
        },
        "id": "80sjNDms8KlQ",
        "outputId": "56b7b472-2861-4855-ea0b-5ed8129f4d1d"
      },
      "source": [
        "# 🚨 Don't change the code below 👇\n",
        "two_digit_number = input(\"Type a two digit number: \")\n",
        "# 🚨 Don't change the code above 👆\n",
        "\n",
        "####################################\n",
        "#Write your code below this line 👇\n",
        "\n",
        "a = int(two_digit_number[0])\n",
        "b = int(two_digit_number[1])\n",
        "\n",
        "print('The result is', a+b)"
      ],
      "execution_count": 3,
      "outputs": [
        {
          "output_type": "stream",
          "text": [
            "Type a two digit number: 87\n",
            "The result is 15\n"
          ],
          "name": "stdout"
        }
      ]
    },
    {
      "cell_type": "markdown",
      "metadata": {
        "id": "ug_Z4fehA5k4"
      },
      "source": [
        "#**BMI Calculator**\n",
        "##Instructions\n",
        "Write a program that calculates the Body Mass Index (BMI) from a user's weight and height.\n",
        "\n",
        "The BMI is a measure of some's weight taking into account their height. e.g. If a tall person and a short person both weigh the same amount, the short person is usually more overweight.\n",
        "\n",
        "The BMI is calculated by dividing a person's weight (in kg) by the square of their height (in m):\n",
        ">![BMI.png](data:image/png;base64,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)\n",
        "\n",
        "\n",
        "\n",
        "\n"
      ]
    },
    {
      "cell_type": "code",
      "metadata": {
        "colab": {
          "base_uri": "https://localhost:8080/"
        },
        "id": "38bSe_6r-yOD",
        "outputId": "fcdba35f-1baa-4176-d792-959468060b0c"
      },
      "source": [
        "# 🚨 Don't change the code below 👇\n",
        "height = input(\"enter your height in m: \")\n",
        "weight = input(\"enter your weight in kg: \")\n",
        "# 🚨 Don't change the code above 👆\n",
        "\n",
        "#Write your code below this line 👇\n",
        "\n",
        "bmi = float(weight)/(float(height)**2)\n",
        "\n",
        "print('BMI', int(bmi))"
      ],
      "execution_count": 4,
      "outputs": [
        {
          "output_type": "stream",
          "text": [
            "3.0\n"
          ],
          "name": "stdout"
        }
      ]
    },
    {
      "cell_type": "markdown",
      "metadata": {
        "id": "knWTioCvC2jM"
      },
      "source": [
        "#**Your Life in Weeks**\n",
        "##Instructions\n",
        "I was reading this article by Tim Urban - Your Life in Weeks and realised just how little time we actually have.\n",
        "\n",
        "https://waitbutwhy.com/2014/05/life-weeks.html\n",
        "\n",
        "Create a program using maths and f-Strings that tells us how many days, weeks, months we have left if we live until 90 years old.\n",
        "\n",
        "It will take your current age as the input and output a message with our time left in this format:\n",
        "\n",
        "> You have x days, y weeks, and z months left.\n",
        "\n",
        "Where x, y and z are replaced with the actual calculated numbers.\n",
        "\n",
        "Warning your output should match the Example Output format exactly, even the positions of the commas and full stops.\n",
        "\n",
        "#**Example Input** \n",
        "\n",
        "> 56\n",
        "\n",
        "#**Example Output**\n",
        "\n",
        "> You have 12410 days, 1768 weeks, and 408 months left.\n",
        "\n",
        "#**Hint**\n",
        "1. There are 365 days in a year, 52 weeks in a year and 12 months in a year.\n",
        "2. Try copying the example output into your code and replace the relevant parts so that the sentence is formated the same way."
      ]
    },
    {
      "cell_type": "code",
      "metadata": {
        "colab": {
          "base_uri": "https://localhost:8080/"
        },
        "id": "zfZFH-fxC29H",
        "outputId": "452a058c-4a73-4039-8c30-81d949bc81d3"
      },
      "source": [
        "# 🚨 Don't change the code below 👇\n",
        "age = input(\"What is your current age?\")\n",
        "# 🚨 Don't change the code above 👆\n",
        "\n",
        "#Write your code below this line 👇\n",
        "\n",
        "tr = 90 - int(age)\n",
        "\n",
        "x = tr*365\n",
        "y = tr*52\n",
        "z = tr*12\n",
        "\n",
        "print(f\"You have {x} days, {y} weeks, and {z} months left.\")\n"
      ],
      "execution_count": 7,
      "outputs": [
        {
          "output_type": "stream",
          "text": [
            "What is your current age?40\n",
            "You have 18250 days, 2600 weeks, and 600 months left.\n"
          ],
          "name": "stdout"
        }
      ]
    },
    {
      "cell_type": "markdown",
      "metadata": {
        "id": "YnsrEmIpKAm6"
      },
      "source": [
        "#**Pagar la cuenta**\n",
        "\n",
        "Se debe calcular cuanto va a pagar cada persona en el restaurante teniendo en cuenta que se debe agregar un porcentaje de propina. El cliente puede elegir si el porcentaje es de 10, 12 o 15."
      ]
    },
    {
      "cell_type": "code",
      "metadata": {
        "colab": {
          "base_uri": "https://localhost:8080/"
        },
        "id": "3j1B2nuFKbpg",
        "outputId": "decd7ceb-0805-429d-ee14-4e2c26e96362"
      },
      "source": [
        "print(\"Welcome to the tip calculator.\")\n",
        "bill = float(input(\"What was the total billl? $\" ))\n",
        "perc = int(input(\"What percentage tip would you like to give? 10, 12 or 15? \" ))\n",
        "people = int(input(\"How many people to split the bill? \" ))\n",
        "\n",
        "total = round((bill + (bill * perc / 100)) / people,2)\n",
        "print(f\"Each person should pay: ${total}\")"
      ],
      "execution_count": 11,
      "outputs": [
        {
          "output_type": "stream",
          "text": [
            "Welcome to the tip calculator.\n",
            "What was the total billl? $153.45\n",
            "What percentage tip would you like to give? 10, 12 or 15? 15\n",
            "How many people to split the bill? 5\n",
            "Each person should pay: $35.29\n"
          ],
          "name": "stdout"
        }
      ]
    }
  ]
}