{
  "nbformat": 4,
  "nbformat_minor": 0,
  "metadata": {
    "colab": {
      "name": "Dia_12.ipynb",
      "provenance": []
    },
    "kernelspec": {
      "name": "python3",
      "display_name": "Python 3"
    }
  },
  "cells": [
    {
      "cell_type": "markdown",
      "metadata": {
        "id": "T7ocWAB_0aE4"
      },
      "source": [
        "# **Scope y Namespace**\n",
        "---\n"
      ]
    },
    {
      "cell_type": "markdown",
      "metadata": {
        "id": "DLoCKdpPL5A_"
      },
      "source": [
        "* Se define primero un valor para la variable player_a fuera de cualquier función con un valor de 5.\n",
        "* Se crea una función que declara una variable player_a con un valor de 2\n",
        "* Se hace llamado a la función juego imprimiendo un 2\n",
        "* Se realiza una operación donde el valor de player_a va a ser multiplicado por 2. En este punto python revisa y encuentra que la variable sigue teniendo el mismo valor ya que no ha sido modificado, por lo que la operación sería 5*2 igual a 10\n",
        "* Llamo a la función juego y se realiza la operación de asignar un 2 a la variable local player_a.\n",
        "* la variable local player_a, fuera de la función ya habia sido modificada con un valor de 10 y es aqui que muestra ese valor. No influye que la función juego haya modificado la variable por que no es la misma ya que la de esta función fue creada localmente y solo tiene utilidad dentro de ella.\n",
        "\n",
        "**Explicación**\n",
        "\n",
        "Existen dos variables con el mismo nombre y estan definidas en espacios diferentes. Una dentro de una función y la otra por fuera; de esta manera dependiendo del ambito donde sea llamada se realizará su respectivo tratamiento."
      ]
    },
    {
      "cell_type": "code",
      "metadata": {
        "colab": {
          "base_uri": "https://localhost:8080/"
        },
        "id": "JtppyoUHtZQj",
        "outputId": "287db12f-93eb-425c-e98c-8a3b18ccedc4"
      },
      "source": [
        "#SCOPE GLOBAL\n",
        "\n",
        "player_a = 5\n",
        "\n",
        "#Aquí el valor de la variable global es cambiado\n",
        "def juego():\n",
        "    player_a = 2 # Este valor permanece solo durante la ejecución de la función, luego desaparece\n",
        "    print(f'jugador interno {player_a}') #Imprime 2\n",
        "juego() # Imprime 2\n",
        "player_a *= 2 # multiplica 5*2 = 10 \n",
        "juego() # Imprime 2\n",
        "#Aquí el valor de la variable no es modificado por la función.\n",
        "print(f'jugador externo {player_a}') # Imprime 10"
      ],
      "execution_count": 5,
      "outputs": [
        {
          "output_type": "stream",
          "text": [
            "jugador interno 2\n",
            "jugador interno 2\n",
            "jugador externo 10\n"
          ],
          "name": "stdout"
        }
      ]
    },
    {
      "cell_type": "markdown",
      "metadata": {
        "id": "Q7oFpdNNOht-"
      },
      "source": [
        "* Creamos una función llamada frutas que define una variable local con un valor de 5\n",
        "* Realizo un llamado a la función frutas imprimiendo el valor de 5.\n",
        "* Al intentar imprimir la variable manzanas por fuera de la función me aparecera un error ya que esta variable solo es reconocida dentro de la función y no por fuera."
      ]
    },
    {
      "cell_type": "code",
      "metadata": {
        "colab": {
          "base_uri": "https://localhost:8080/",
          "height": 221
        },
        "id": "BE1Z0RcLDg1Z",
        "outputId": "0b99bb11-a26f-46e3-e89c-d2a12d05ce02"
      },
      "source": [
        "#Scope Local\n",
        "\n",
        "def frutas():\n",
        "    manzanas = 5\n",
        "    print(manzanas)\n",
        "\n",
        "frutas()\n",
        "\n",
        "print(manzanas) # No esta definida la variable en python, no puede ser accedida fuera de la función."
      ],
      "execution_count": 4,
      "outputs": [
        {
          "output_type": "stream",
          "text": [
            "5\n"
          ],
          "name": "stdout"
        },
        {
          "output_type": "error",
          "ename": "NameError",
          "evalue": "ignored",
          "traceback": [
            "\u001b[0;31m---------------------------------------------------------------------------\u001b[0m",
            "\u001b[0;31mNameError\u001b[0m                                 Traceback (most recent call last)",
            "\u001b[0;32m<ipython-input-4-0715d39ff4ce>\u001b[0m in \u001b[0;36m<module>\u001b[0;34m()\u001b[0m\n\u001b[1;32m      7\u001b[0m \u001b[0mfrutas\u001b[0m\u001b[0;34m(\u001b[0m\u001b[0;34m)\u001b[0m\u001b[0;34m\u001b[0m\u001b[0;34m\u001b[0m\u001b[0m\n\u001b[1;32m      8\u001b[0m \u001b[0;34m\u001b[0m\u001b[0m\n\u001b[0;32m----> 9\u001b[0;31m \u001b[0mprint\u001b[0m\u001b[0;34m(\u001b[0m\u001b[0mmanzanas\u001b[0m\u001b[0;34m)\u001b[0m \u001b[0;31m# No esta definida la variable en python, no puede ser accedida fuera de la función.\u001b[0m\u001b[0;34m\u001b[0m\u001b[0;34m\u001b[0m\u001b[0m\n\u001b[0m",
            "\u001b[0;31mNameError\u001b[0m: name 'manzanas' is not defined"
          ]
        }
      ]
    },
    {
      "cell_type": "markdown",
      "metadata": {
        "id": "TWtj4DEsGwYt"
      },
      "source": [
        "Para el siguiente ejemplo se quiere seguir realizando operaciones partiendo del valor original y que sea modificado en relación de su orden de llamado. Para eso cuando sea llamada la función no solo debe seguir trabajando con el valor anterior a su llamado sino que ademas ese valor nuevo debe permanecer hasta realizar alguna nueva operación. En este ejemplo se utiliza global para permitir seguir usando la variable totalmente de forma global. \n",
        "* Primero defino con un valor de 5 la variable player_a\n",
        "* Creo una función llamada juego donde defino que la variable player_a es global y cuando entre a operar la función, osea cuando sea llamada debe sumarse un 2 a su valor actual.\n",
        "* Realizo una operación de multipicar el valor de la variable player_a por 2. Hay que fijarse que aunque antes de esta operación se creó la función juego, esta todavia no ha sido llamada por lo que actualmente el valor que tiene la variable sigue siendo 5 y el resultado seria 10 osea player_a = 5*2.\n",
        "* Aqui si realizo un llamado a la función juego. La variable player_a con valor de 10 vuelve a ser moficada mendiante la operación de sumarle un 2 ya que se definio como una variable global, de esta manera la operación explicita seria 10+2 imprimiendo ese resultado.\n",
        "* Para finalizar vuelvo a imprimir el valor de player_a externamente a la función para comprobar que sea el mismo de la función."
      ]
    },
    {
      "cell_type": "code",
      "metadata": {
        "id": "AlllNRjIGtxQ"
      },
      "source": [
        "player_a = 5\n",
        "\n",
        "#Aquí el valor de la variable global es cambiado\n",
        "def juego():\n",
        "    global player_a\n",
        "    print(player_a)\n",
        "    player_a += 2 # Este valor permanece solo durante la ejecución de la función, luego desaparece\n",
        "    print(f'jugador interno {player_a}') #Imprime 2\n",
        "\n",
        "player_a *= 2 # multiplica 5*2 = 10 \n",
        "\n",
        "juego() # Imprime 2\n",
        "#Aquí el valor de la variable no es modificado por la función.\n",
        "print(f'jugador externo {player_a}') # Imprime 10"
      ],
      "execution_count": null,
      "outputs": []
    }
  ]
}