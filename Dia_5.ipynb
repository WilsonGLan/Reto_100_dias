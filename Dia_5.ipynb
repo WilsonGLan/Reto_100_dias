{
  "nbformat": 4,
  "nbformat_minor": 0,
  "metadata": {
    "colab": {
      "name": "Dia_5.ipynb",
      "provenance": [],
      "authorship_tag": "ABX9TyOikJHuSk9dnYPEnjs68l3j",
      "include_colab_link": true
    },
    "kernelspec": {
      "name": "python3",
      "display_name": "Python 3"
    }
  },
  "cells": [
    {
      "cell_type": "markdown",
      "metadata": {
        "id": "view-in-github",
        "colab_type": "text"
      },
      "source": [
        "<a href=\"https://colab.research.google.com/github/WilsonGLan/Reto_100_dias/blob/main/Dia_5.ipynb\" target=\"_parent\"><img src=\"https://colab.research.google.com/assets/colab-badge.svg\" alt=\"Open In Colab\"/></a>"
      ]
    },
    {
      "cell_type": "markdown",
      "metadata": {
        "id": "KoFtyAxFDesK"
      },
      "source": [
        "# **DIA 5**\n",
        "\n",
        "##Temas\n",
        "\n",
        "* Ciclo For\n"
      ]
    },
    {
      "cell_type": "code",
      "metadata": {
        "colab": {
          "base_uri": "https://localhost:8080/"
        },
        "id": "vQ4GAKLpCAWQ",
        "outputId": "c0db5499-681b-46dd-a725-a8a17580fd29"
      },
      "source": [
        "frutas=['manzana', 'pera', 'melocoton']\n",
        "for f in frutas:\n",
        "  print(f)"
      ],
      "execution_count": 1,
      "outputs": [
        {
          "output_type": "stream",
          "text": [
            "manzana\n",
            "pera\n",
            "melocoton\n"
          ],
          "name": "stdout"
        }
      ]
    },
    {
      "cell_type": "markdown",
      "metadata": {
        "id": "9G5gXcRwFf3j"
      },
      "source": [
        "##  **Average Height**\n",
        "---\n",
        "# Instructions\n",
        "\n",
        "You are going to write a program that calculates the average student height from a List of heights. \n",
        "\n",
        "e.g. `student_heights = [180, 124, 165, 173, 189, 169, 146]`\n",
        "\n",
        "The average height can be calculated by adding all the heights together and dividing by the total number of heights. \n",
        "\n",
        "e.g.\n",
        "\n",
        "180 + 124 + 165 + 173 + 189 + 169 + 146 = **1146**\n",
        "\n",
        "There are a total of **7** heights in `student_heights`\n",
        "\n",
        "1146 ÷ 7 = **163.71428571428572**\n",
        "\n",
        "Average height rounded to the nearest whole number = **164**\n",
        "\n",
        "**Important** You should not use the `sum()` or `len()` functions in your answer. You should try to replicate their functionality using what you have learnt about for loops.\n",
        "\n",
        "# Example Input \n",
        "\n",
        "```\n",
        "156 178 165 171 187\n",
        "```\n",
        "\n",
        "In this case, student_heights would be a list that looks like: [156, 178, 165, 171, 187]\n",
        "\n",
        "# Example Output \n",
        "\n",
        "```\n",
        "171\n",
        "```\n",
        "\n",
        "e.g. When you hit **run**, this is what should happen: \n",
        "\n",
        " \n",
        "![](https://cdn.fs.teachablecdn.com/Nzb8hUVsQJ6STAGnvDCP)\n",
        " \n",
        "\n",
        "# Hint\n",
        "\n",
        "1. Remember to use the `round()` function to round the average height before you print it.\n",
        "\n",
        "# Test Your Code\n",
        "\n",
        "Before checking the solution, try copy-pasting your code into this repl: \n",
        "\n",
        "[https://repl.it/@appbrewery/day-5-1-test-your-code](https://repl.it/@appbrewery/day-5-1-test-your-code)\n",
        "\n",
        "This repl includes my testing code that will check if your code meets this assignment's objectives. "
      ]
    },
    {
      "cell_type": "code",
      "metadata": {
        "colab": {
          "base_uri": "https://localhost:8080/"
        },
        "id": "EMDd7TcCFwUC",
        "outputId": "99ca73ac-e219-4a64-dd54-b78ce8ffc2e7"
      },
      "source": [
        "# 🚨 Don't change the code below 👇\n",
        "student_heights = input(\"Input a list of student heights \").split()\n",
        "for n in range(0, len(student_heights)):\n",
        "  student_heights[n] = int(student_heights[n])\n",
        "# 🚨 Don't change the code above 👆\n",
        "\n",
        "#Write your code below this row 👇\n",
        "\n",
        "total_list = 0\n",
        "sum_list = 0\n",
        "\n",
        "for i in student_heights:\n",
        "  total_list +=1\n",
        "  sum_list += i\n",
        "\n",
        "print(round(sum_list/total_list))\n",
        "\n"
      ],
      "execution_count": 11,
      "outputs": [
        {
          "output_type": "stream",
          "text": [
            "Input a list of student heights 156 178 165 171 187\n",
            "171\n"
          ],
          "name": "stdout"
        }
      ]
    },
    {
      "cell_type": "markdown",
      "metadata": {
        "id": "9_OipO70Pf-W"
      },
      "source": [
        "## **Highest Score**\n",
        "---\n",
        "# Instructions\n",
        "\n",
        "You are going to write a program that calculates the highest score from a List of scores. \n",
        "\n",
        "e.g. `student_scores = [78, 65, 89, 86, 55, 91, 64, 89]`\n",
        "\n",
        "**Important** you are not allowed to use the max or min functions. The output words must match the example. i.e \n",
        "\n",
        "> `The highest score in the class is: x`\n",
        "\n",
        "# Example Input \n",
        "\n",
        "```\n",
        "78 65 89 86 55 91 64 89\n",
        "```\n",
        "\n",
        "In this case, student_scores would be a list that looks like: `[78, 65, 89, 86, 55, 91, 64, 89]`\n",
        "\n",
        "# Example Output \n",
        "\n",
        "```\n",
        "The highest score in the class is: 91\n",
        "```\n",
        "\n",
        "e.g. When you hit **run**, this is what should happen: \n",
        "\n",
        "  \n",
        "![](https://cdn.fs.teachablecdn.com/DnSPgYNSTgeHRJ3MinHg)\n",
        " \n",
        "\n",
        "# Hint\n",
        "\n",
        "1. Think about the logic before writing code. How can you compare numbers against each other to see which one is larger?"
      ]
    },
    {
      "cell_type": "code",
      "metadata": {
        "colab": {
          "base_uri": "https://localhost:8080/"
        },
        "id": "1kCqpZ5nP4pr",
        "outputId": "63cea8f2-854b-4aa6-e19b-590c65c6f255"
      },
      "source": [
        "# 🚨 Don't change the code below 👇\n",
        "student_scores = input(\"Input a list of student scores \").split()\n",
        "for n in range(0, len(student_scores)):\n",
        "  student_scores[n] = int(student_scores[n])\n",
        "print(student_scores)\n",
        "# 🚨 Don't change the code above 👆\n",
        "#156 178 165 171 187\n",
        "#Write your code below this row 👇\n",
        "\n",
        "max_scores = 0\n",
        "\n",
        "for score in student_scores:\n",
        "  if score > max_scores:\n",
        "    max_scores = score\n",
        "\n",
        "print(f\"The highest score in the class is: {max_scores}\")\n",
        " "
      ],
      "execution_count": 16,
      "outputs": [
        {
          "output_type": "stream",
          "text": [
            "Input a list of student scores 156 178 165 171 187\n",
            "[156, 178, 165, 171, 187]\n",
            "The highest score in the class is: 187\n"
          ],
          "name": "stdout"
        }
      ]
    },
    {
      "cell_type": "markdown",
      "metadata": {
        "id": "mifLmBL8aDjE"
      },
      "source": [
        "## Adding Evens\n",
        "---\n",
        "# Instructions\n",
        "\n",
        "You are going to write a program that calculates the sum of all the even numbers from 1 to 100, including 2 and 100.\n",
        "\n",
        "e.g. 2 + 4 + 6 + 8 +10 ... + 98 + 100\n",
        "\n",
        "Important, there should only be 1 print statement in your console output. It should just print the final total and not every step of the calculation.\n",
        "\n",
        "# Hint\n",
        "\n",
        "1. There are quite a few ways of solving this problem, but you will need to use the `range()` function in any of the solutions."
      ]
    },
    {
      "cell_type": "code",
      "metadata": {
        "colab": {
          "base_uri": "https://localhost:8080/"
        },
        "id": "OcPc_zoBaK_a",
        "outputId": "baa49ca2-23c9-42e0-b408-f2d4af0bd1e0"
      },
      "source": [
        "sum_even=0\n",
        "for i in range(0,101,2):\n",
        "  sum_even += i\n",
        "\n",
        "print(sum_even)\n"
      ],
      "execution_count": 20,
      "outputs": [
        {
          "output_type": "stream",
          "text": [
            "2550\n"
          ],
          "name": "stdout"
        }
      ]
    },
    {
      "cell_type": "markdown",
      "metadata": {
        "id": "7bqM9oFZcFV1"
      },
      "source": [
        "## **FizzBuzz**\n",
        "---\n",
        "# Instructions\n",
        "\n",
        "You are going to write a program that automatically prints the solution to the FizzBuzz game. \n",
        "\n",
        "> `Your program should print each number from 1 to 100 in turn.` \n",
        "\n",
        ">   `When the number is divisible by 3 then instead of printing the number it should print \"Fizz\".` \n",
        "\n",
        ">     `When the number is divisible by 5, then instead of printing the number it should print \"Buzz\".` \n",
        "\n",
        ">       `And if the number is divisible by both 3 and 5 e.g. 15 then instead of the number it should print \"FizzBuzz\"`\n",
        "\n",
        "e.g. it might start off like this:\n",
        "\n",
        "```\n",
        "`1\n",
        "2\n",
        "Fizz\n",
        "4\n",
        "Buzz\n",
        "Fizz\n",
        "7\n",
        "8\n",
        "Fizz\n",
        "Buzz\n",
        "11\n",
        "Fizz\n",
        "13\n",
        "14\n",
        "FizzBuzz`\n",
        "```\n",
        "\n",
        "`.... etc.`\n",
        "\n",
        "# Hint\n",
        "\n",
        "1. Remember your answer should start from 1 and go up to and including 100. \n",
        "\n",
        "2. Each number/text should be printed on a separate line.\n"
      ]
    },
    {
      "cell_type": "code",
      "metadata": {
        "colab": {
          "base_uri": "https://localhost:8080/"
        },
        "id": "LrUIOZJKchNk",
        "outputId": "a1baff10-7026-413c-db3f-6977792a0248"
      },
      "source": [
        "for i in range(1,101):\n",
        "  if i % 3 == 0 and i % 5 == 0:\n",
        "    print('FizzBuzz')\n",
        "  elif i % 3 == 0:\n",
        "    print('Fizz')\n",
        "  elif i % 5 == 0:\n",
        "    print('Buzz')\n",
        "  else:\n",
        "    print(i)"
      ],
      "execution_count": 22,
      "outputs": [
        {
          "output_type": "stream",
          "text": [
            "1\n",
            "2\n",
            "Fizz\n",
            "4\n",
            "Buzz\n",
            "Fizz\n",
            "7\n",
            "8\n",
            "Fizz\n",
            "Buzz\n",
            "11\n",
            "Fizz\n",
            "13\n",
            "14\n",
            "FizzBuzz\n",
            "16\n",
            "17\n",
            "Fizz\n",
            "19\n",
            "Buzz\n",
            "Fizz\n",
            "22\n",
            "23\n",
            "Fizz\n",
            "Buzz\n",
            "26\n",
            "Fizz\n",
            "28\n",
            "29\n",
            "FizzBuzz\n",
            "31\n",
            "32\n",
            "Fizz\n",
            "34\n",
            "Buzz\n",
            "Fizz\n",
            "37\n",
            "38\n",
            "Fizz\n",
            "Buzz\n",
            "41\n",
            "Fizz\n",
            "43\n",
            "44\n",
            "FizzBuzz\n",
            "46\n",
            "47\n",
            "Fizz\n",
            "49\n",
            "Buzz\n",
            "Fizz\n",
            "52\n",
            "53\n",
            "Fizz\n",
            "Buzz\n",
            "56\n",
            "Fizz\n",
            "58\n",
            "59\n",
            "FizzBuzz\n",
            "61\n",
            "62\n",
            "Fizz\n",
            "64\n",
            "Buzz\n",
            "Fizz\n",
            "67\n",
            "68\n",
            "Fizz\n",
            "Buzz\n",
            "71\n",
            "Fizz\n",
            "73\n",
            "74\n",
            "FizzBuzz\n",
            "76\n",
            "77\n",
            "Fizz\n",
            "79\n",
            "Buzz\n",
            "Fizz\n",
            "82\n",
            "83\n",
            "Fizz\n",
            "Buzz\n",
            "86\n",
            "Fizz\n",
            "88\n",
            "89\n",
            "FizzBuzz\n",
            "91\n",
            "92\n",
            "Fizz\n",
            "94\n",
            "Buzz\n",
            "Fizz\n",
            "97\n",
            "98\n",
            "Fizz\n",
            "Buzz\n"
          ],
          "name": "stdout"
        }
      ]
    },
    {
      "cell_type": "markdown",
      "metadata": {
        "id": "2yQJtmMEd3YR"
      },
      "source": [
        "# **PROYECTO**\n",
        "---\n",
        "Generar claves seguras con las siguientes condiciones:\n",
        "\n",
        "1. Preguntar cuantos caracteres debe tener la clave\n",
        "2. Cuantos simbolos"
      ]
    },
    {
      "cell_type": "code",
      "metadata": {
        "colab": {
          "base_uri": "https://localhost:8080/"
        },
        "id": "OjgVSiXCeDmW",
        "outputId": "8788c6d5-b947-4d1d-c999-76496f0f21bb"
      },
      "source": [
        "import random as r\n",
        "\n",
        "letters = ['A', 'a', 'B', 'b', 'C', 'c', 'D', 'd', 'E', 'e', 'F', 'f',\n",
        "'G', 'g', 'H', 'h', 'I', 'i', 'J', 'j', 'K', 'k', 'L', 'l',\n",
        "'M', 'm', 'N', 'n', 'O', 'o', 'P', 'p', 'Q', 'q', 'R', 'r',\n",
        "'S', 's', 'T', 't', 'U', 'u', 'V', 'v', 'W', 'w', 'X', 'x',\n",
        "'Y', 'y', 'Z', 'z']\n",
        "\n",
        "symbols= ['!', '¡', '¿', '?', '(', ')', '#', '$', '%', '&', '*', '+', '-', '.']\n",
        "numbers= ['0', '1', '2', '3', '4', '5', '6', '7', '8', '9']\n",
        "\n",
        "result_random=[]\n",
        "password=''\n",
        "\n",
        "print(\"Welcome to the PyPassword Generator!\")\n",
        "total_letters = int(input(\"How many letters would you like in your password?\\n\"))\n",
        "total_symbols=int(input(\"How many symbols would you like?\\n\"))\n",
        "total_numbers=int(input(\"How many numbers would you like?\\n\"))\n",
        "\n",
        "for l in range(0,total_letters):  \n",
        "  result_random.append(r.choice(letters))  \n",
        "\n",
        "for s in range(0,total_symbols):\n",
        "  result_random.append(r.choice(symbols))  \n",
        "\n",
        "for n in range(0,total_numbers):\n",
        "  result_random.append(r.choice(numbers))  \n",
        "\n",
        "r.shuffle(result_random)\n",
        "\n",
        "for n in result_random:  \n",
        "  password += n\n",
        "\n",
        "print(f\"Your password is: {password}\")\n",
        "\n"
      ],
      "execution_count": 52,
      "outputs": [
        {
          "output_type": "stream",
          "text": [
            "Welcome to the PyPassword Generator!\n",
            "How many letters would you like in your password?\n",
            "12\n",
            "How many symbols would you like?\n",
            "4\n",
            "How many numbers would you like?\n",
            "8\n",
            "Your password is: Q90*R6325Qve0pa.lN#M$0FV\n"
          ],
          "name": "stdout"
        }
      ]
    },
    {
      "cell_type": "code",
      "metadata": {
        "colab": {
          "base_uri": "https://localhost:8080/"
        },
        "id": "ElDySsLvk4EQ",
        "outputId": "33350b1f-1f39-4583-eee0-7302e17119a1"
      },
      "source": [
        "import random\n",
        "result_letters=[]\n",
        "for l in range(0,5):\n",
        "  result_letters.append(l)\n",
        "  print(l,end=' ')\n",
        "\n",
        "lista=[1,2,3]\n",
        "n = r.choice(lista)\n",
        "print('---> ',n)\n",
        "\n",
        "arreglo = ['a','b','c']\n",
        "\n",
        "\n",
        "# Esta línea realiza todo el trabajo sucio de desordenar el arreglo y lo \n",
        "# guarda en la misma variable :D\n",
        "random.shuffle(arreglo)\n",
        "print(arreglo)"
      ],
      "execution_count": 48,
      "outputs": [
        {
          "output_type": "stream",
          "text": [
            "0 1 2 3 4 --->  3\n",
            "['c', 'b', 'a']\n"
          ],
          "name": "stdout"
        }
      ]
    }
  ]
}